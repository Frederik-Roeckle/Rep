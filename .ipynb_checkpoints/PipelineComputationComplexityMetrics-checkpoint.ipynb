{
 "cells": [
  {
   "cell_type": "markdown",
   "id": "cda6305b-8807-4309-9d44-e098de54fa35",
   "metadata": {},
   "source": [
    "# Pipeline: Computation of Complexity Metrics \n",
    "\n",
    "\n",
    "#### INPUT\n",
    "As an input this pipeline expect a link to a directory with the preprocessed event logs in a csv/xes file format\n",
    "\n",
    "\n",
    "#### OUTPUT\n",
    "This script computes and outputs all complexity metrics of the provided input logs. Its calculating all known complexity metrics that can be calculated with the given programs by the authors and stores all the data in a csv file"
   ]
  },
  {
   "cell_type": "code",
   "execution_count": 2,
   "id": "9fbd3587-e86f-4cff-b6ea-2b8eab860931",
   "metadata": {},
   "outputs": [
    {
     "ename": "ModuleNotFoundError",
     "evalue": "No module named 'fs'",
     "output_type": "error",
     "traceback": [
      "\u001b[1;31m---------------------------------------------------------------------------\u001b[0m",
      "\u001b[1;31mModuleNotFoundError\u001b[0m                       Traceback (most recent call last)",
      "Cell \u001b[1;32mIn[2], line 4\u001b[0m\n\u001b[0;32m      2\u001b[0m \u001b[38;5;28;01mimport\u001b[39;00m \u001b[38;5;21;01mpm4py\u001b[39;00m\n\u001b[0;32m      3\u001b[0m \u001b[38;5;28;01mimport\u001b[39;00m \u001b[38;5;21;01mos\u001b[39;00m\n\u001b[1;32m----> 4\u001b[0m \u001b[38;5;28;01mimport\u001b[39;00m \u001b[38;5;21;01mfs\u001b[39;00m\n",
      "\u001b[1;31mModuleNotFoundError\u001b[0m: No module named 'fs'"
     ]
    }
   ],
   "source": [
    "import pandas as pd\n",
    "import pm4py\n",
    "import os"
   ]
  },
  {
   "cell_type": "code",
   "execution_count": 3,
   "id": "635a441b-4233-4974-9d06-0e9da5b67aca",
   "metadata": {},
   "outputs": [],
   "source": [
    "directory_path = r\"\""
   ]
  },
  {
   "cell_type": "code",
   "execution_count": 4,
   "id": "d6d0f752-2e35-4bef-8a5e-51ddce2ca574",
   "metadata": {},
   "outputs": [
    {
     "ename": "OSError",
     "evalue": "[WinError 123] Die Syntax für den Dateinamen, Verzeichnisnamen oder die Datenträgerbezeichnung ist falsch: ''",
     "output_type": "error",
     "traceback": [
      "\u001b[1;31m---------------------------------------------------------------------------\u001b[0m",
      "\u001b[1;31mOSError\u001b[0m                                   Traceback (most recent call last)",
      "Cell \u001b[1;32mIn[4], line 1\u001b[0m\n\u001b[1;32m----> 1\u001b[0m \u001b[43mos\u001b[49m\u001b[38;5;241;43m.\u001b[39;49m\u001b[43mchdir\u001b[49m\u001b[43m(\u001b[49m\u001b[43mdirectory_path\u001b[49m\u001b[43m)\u001b[49m\n\u001b[0;32m      2\u001b[0m file_paths \u001b[38;5;241m=\u001b[39m os\u001b[38;5;241m.\u001b[39mlistdir()\n",
      "\u001b[1;31mOSError\u001b[0m: [WinError 123] Die Syntax für den Dateinamen, Verzeichnisnamen oder die Datenträgerbezeichnung ist falsch: ''"
     ]
    }
   ],
   "source": [
    "os.chdir(directory_path)\n",
    "file_paths = os.listdir()"
   ]
  },
  {
   "cell_type": "markdown",
   "id": "a2aaea5e-85e8-403d-879d-0af9b1435be2",
   "metadata": {},
   "source": [
    "#### Compute complexity metrics with  Complexity.py\n",
    "\n",
    "The author of the paper provide a script Complexity.py that can compute different complexity metrics. To run the script and compute all metrics you can use the following commands \n",
    "\n",
    "\"\"\"!python Complexity.py -f {file} -m all\"\"\".f(file=file)\n",
    "\n",
    "However, when run locally the time for caluclation is enormously long. There is no preview on how long the script needs to finish computing. \n",
    "\n",
    "E.g. for the BPI_Challenge_File from 2019 the computation took roughly \n",
    "\n",
    "Run on linux server with 8gb ram and 4core cpu. Started on 15:30\n",
    "\n",
    "Finishes on 16:30 but ended with a error. It could calculcate some metrics but throw the following error.\n",
    "\n"
   ]
  },
  {
   "cell_type": "markdown",
   "id": "16b9196a-076d-42af-8f4c-bdeb09c4ec8b",
   "metadata": {},
   "source": [
    "(process-complexity) root@ubuntu:~/process-complexity# python3 Complexity.py -f BPI_Challenge_2019.xes -m all                                                                                                                                parsing log, completed traces :: 100%|█████████████████████████████████████████████████████████████████████████████████████████████████████████████████████████████████████████████████████████████| 251734/251734 [01:00<00:00, 4177.04it/s]Selected measures: all                                                                                                                                                                                                                       Magnitude: 1595923                                                                                                                                                                                                                           Support: 251734                                                                                                                                                                                                                              Variety: 42                                                                                                                                                                                                                                  Level of detail: 5.1855967012799224                                                                                                                                                                                                          Time granularity: 201452.48064475952 (seconds)                                                                                                                                                                                               Traceback (most recent call last):                                                                                                                                                                                                             File \"/root/process-complexity/Complexity.py\", line 1068, in <module>                                                                                                                                                                          measurements = perform_measurements(args.measures, log, pm4py_log, pa, quiet=False, verbose=args.verbose)                                                                                                                                  File \"/root/process-complexity/Complexity.py\", line 577, in perform_measurements                                                                                                                                                               measurements['Structure'] = measure_structure(pm4py_log, quiet, verbose) # event_classes, var, hashmap, variety                                                                                                                            File \"/root/process-complexity/Complexity.py\", line 458, in measure_structure                                                                                                                                                                  aff = aux_aff(pm4py_log)                                                                                                                                                                                                                   File \"/root/process-complexity/Complexity.py\", line 385, in aux_aff                                                                                                                                                                            var = aux_variants(pm4py_log)                                                                                                                                                                                                              File \"/root/process-complexity/Complexity.py\", line 359, in aux_variants                                                                                                                                                                       from pm4py.algo.filtering.log.variants import variants_filter                                                                                                                                                                              File \"/root/process-complexity/lib/python3.10/site-packages/pm4py/algo/filtering/log/__init__.py\", line 18, in <module>                                                                                                                        from pm4py.algo.filtering.log import attributes, end_activities, paths, \\                                                                                                                                                                  File \"/root/process-complexity/lib/python3.10/site-packages/pm4py/algo/filtering/log/ltl/__init__.py\", line 17, in <module>                                                                                                                    from pm4py.algo.filtering.log.ltl import ltl_checker                                                                                                                                                                                       File \"/root/process-complexity/lib/python3.10/site-packages/pm4py/algo/filtering/log/ltl/ltl_checker.py\", line 59, in <module>                                                                                                                 @deprecation.deprecated('2.2.6', '3.0.0', 'please use pm4py.algo.filtering.log.ltl.ltl_checker.eventually_follows')                                                                                                                        File \"/root/process-complexity/lib/python3.10/site-packages/deprecation.py\", line 170, in deprecated                                                                                                                                           current_version = version.parse(current_version)                                                                                                                                                                                           File \"/root/process-complexity/lib/python3.10/site-packages/packaging/version.py\", line 54, in parse                                                                                                                                           return Version(version)                                                                                                                                                                                                                    File \"/root/process-complexity/lib/python3.10/site-packages/packaging/version.py\", line 200, in __init__                                                                                                                                       raise InvalidVersion(f\"Invalid version: '{version}'\")                                                                                                                                                                                    packaging.version.InvalidVersion: Invalid version: 'please use pm4py.algo.filtering.log.ltl.ltl_checker.eventually_follows'"
   ]
  },
  {
   "cell_type": "markdown",
   "id": "67dddffd-d02b-44a7-ac52-32ddb035eb52",
   "metadata": {},
   "source": [
    "structure can not be calculated -> see error log above"
   ]
  },
  {
   "cell_type": "code",
   "execution_count": null,
   "id": "30cdba32-8d29-4ff0-8cbb-44e3362de18c",
   "metadata": {},
   "outputs": [],
   "source": [
    "for file in file_paths:\n",
    "    \"\"\"!python Complexity.py -f {file} -m all\"\"\".f(file=file)"
   ]
  }
 ],
 "metadata": {
  "kernelspec": {
   "display_name": "Python 3 (ipykernel)",
   "language": "python",
   "name": "python3"
  },
  "language_info": {
   "codemirror_mode": {
    "name": "ipython",
    "version": 3
   },
   "file_extension": ".py",
   "mimetype": "text/x-python",
   "name": "python",
   "nbconvert_exporter": "python",
   "pygments_lexer": "ipython3",
   "version": "3.11.3"
  }
 },
 "nbformat": 4,
 "nbformat_minor": 5
}
