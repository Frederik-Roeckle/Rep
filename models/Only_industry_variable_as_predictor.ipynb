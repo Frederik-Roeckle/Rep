{
  "nbformat": 4,
  "nbformat_minor": 0,
  "metadata": {
    "colab": {
      "provenance": [],
      "include_colab_link": true
    },
    "kernelspec": {
      "name": "python3",
      "display_name": "Python 3"
    },
    "language_info": {
      "name": "python"
    }
  },
  "cells": [
    {
      "cell_type": "markdown",
      "metadata": {
        "id": "view-in-github",
        "colab_type": "text"
      },
      "source": [
        "<a href=\"https://colab.research.google.com/github/Frederik-Roeckle/Rep_ImpactProcessComplexity/blob/master/Only_industry_variable_as_predictor.ipynb\" target=\"_parent\"><img src=\"https://colab.research.google.com/assets/colab-badge.svg\" alt=\"Open In Colab\"/></a>"
      ]
    },
    {
      "cell_type": "code",
      "execution_count": 84,
      "metadata": {
        "id": "_p1uNdD3jqxb"
      },
      "outputs": [],
      "source": [
        "import pandas\n",
        "import numpy as np\n",
        "import pandas as pd\n",
        "import matplotlib.pyplot as plt\n",
        "from google.colab import drive\n",
        "import statsmodels.api as sm"
      ]
    },
    {
      "cell_type": "code",
      "source": [
        "drive.mount('/content/drive')\n",
        "\n",
        "data = 'merged.csv'\n",
        "\n",
        "# Freddys google drive path\n",
        "data = '/content/drive/MyDrive/Colab Notebooks/Rep_ProcessMining/provided/merged.csv'\n",
        "\n",
        "data = pd.read_csv(data)"
      ],
      "metadata": {
        "id": "6N35tCIUkEzp",
        "colab": {
          "base_uri": "https://localhost:8080/"
        },
        "outputId": "1288ed8a-c8b9-41e3-bb62-25b5f9125920"
      },
      "execution_count": 85,
      "outputs": [
        {
          "output_type": "stream",
          "name": "stdout",
          "text": [
            "Drive already mounted at /content/drive; to attempt to forcibly remount, call drive.mount(\"/content/drive\", force_remount=True).\n"
          ]
        }
      ]
    },
    {
      "cell_type": "code",
      "source": [
        "column_indices = [1, 3, 4, 5, 6, 7, 8, 9, 10, 11, 12, 13, 14, 15, 16, 17, 18, 19, 20,\n",
        "                  21, 22, 23, 24, 25, 26, 27, 28, 29, 30, 31, 32, 33, 34,\n",
        "                  41, 42, 43, 44, 45, 45, 46, 47, 48, 49, 50, 51, 52, 53, 54]\n",
        "\n",
        "# Select the columns\n",
        "datas_filtered = datas.iloc[:, column_indices]"
      ],
      "metadata": {
        "id": "lBpW87DbCVn-"
      },
      "execution_count": 86,
      "outputs": []
    },
    {
      "cell_type": "code",
      "source": [
        "import pandas as pd\n",
        "import numpy as np\n",
        "\n",
        "# Check for missing values\n",
        "null_columns = datas_filtered.columns[datas_filtered.isnull().any()].tolist()\n",
        "print(\"Columns with null values:\")\n",
        "print(null_columns)\n",
        "\n",
        "# Check for infinite values\n",
        "#inf_columns = datas_filtered.columns[np.isinf(datas_filtered).any()].tolist()\n",
        "#print(\"Columns with infinite values:\")\n",
        "#print(inf_columns)\n"
      ],
      "metadata": {
        "colab": {
          "base_uri": "https://localhost:8080/"
        },
        "id": "RD1tqRNZLWsz",
        "outputId": "2aa5c2b2-f4fa-428a-8bb0-6fa665403d07"
      },
      "execution_count": 87,
      "outputs": [
        {
          "output_type": "stream",
          "name": "stdout",
          "text": [
            "Columns with null values:\n",
            "['Number of participants in period', 'Average number of participants per trace', 'Median number of participants per trace', 'Handover of work in period', 'Average handover of work per trace', 'Median handover of work per trace', 'Average handover of work from participant', 'Median handover of work from participant', 'Affinity']\n"
          ]
        }
      ]
    },
    {
      "cell_type": "markdown",
      "source": [
        "### There are null values in some columns"
      ],
      "metadata": {
        "id": "D8bAWX2WLhee"
      }
    },
    {
      "cell_type": "code",
      "source": [
        "# Drop rows where 'Affinity' is null\n",
        "datas_filtered = datas_filtered.dropna(subset=['Affinity', 'Number of participants in period', 'Handover of work in period',\n",
        "                                               'Median handover of work from participant', 'Average handover of work from participant',\n",
        "                                               'Median handover of work per trace', 'Average handover of work per trace', 'Median number of participants per trace',\n",
        "                                               'Average number of participants per trace'])\n",
        "\n",
        "# Now 'df' is your dataframe with rows dropped where 'Affinity' is null"
      ],
      "metadata": {
        "id": "9yVEkt-tL7RT"
      },
      "execution_count": 88,
      "outputs": []
    },
    {
      "cell_type": "markdown",
      "source": [
        "**FULL** **MODELS**\n"
      ],
      "metadata": {
        "id": "Mx8Q-MSrWpn7"
      }
    },
    {
      "cell_type": "code",
      "source": [
        "# Define the dependent variable (median throughput time)\n",
        "y = datas_filtered[\"Median throughput time\"]\n",
        "\n",
        "# Define the independent variables (all other metrics)\n",
        "X = datas_filtered.drop(\"Median throughput time\", axis=1)\n",
        "\n",
        "y"
      ],
      "metadata": {
        "id": "AOoxw2RXW1iF",
        "colab": {
          "base_uri": "https://localhost:8080/"
        },
        "outputId": "42877da1-e5dc-40c9-b105-0aaf5c79bdd2"
      },
      "execution_count": 89,
      "outputs": [
        {
          "output_type": "execute_result",
          "data": {
            "text/plain": [
              "0         572551.5\n",
              "1         638583.0\n",
              "2         606969.0\n",
              "3         694697.0\n",
              "4         786880.0\n",
              "           ...    \n",
              "1424    48098190.0\n",
              "1425    66773640.0\n",
              "1426    66773640.0\n",
              "1427    66773640.0\n",
              "1428    66773640.0\n",
              "Name: Median throughput time, Length: 1363, dtype: float64"
            ]
          },
          "metadata": {},
          "execution_count": 89
        }
      ]
    },
    {
      "cell_type": "markdown",
      "source": [
        "**ADDING** **THE** **DUMMMY** **VARIABLE**"
      ],
      "metadata": {
        "id": "7YrO0ZIid7dH"
      }
    },
    {
      "cell_type": "code",
      "source": [
        "def assign_value(y):\n",
        "    if y == ('BPIC15_3_metrics.csv'or 'BPIC15_4_metrics.csv' or 'BPIC15_5_metrics.csv' or 'BPIC15_2_metrics.csv' or 'BPIC15_1_metrics.csv' or 'BPI_Challenge_2018_metrics.csv'):  # replace this condition with your own\n",
        "        return 'Public Administration'\n",
        "    if y == ('2020_PrepaidTravelCost_metrics.csv' or '2020_DomesticDeclarations_metrics.csv' or '2020_RequestForPayment_metrics.csv' or '2020_InternationalDeclarations_metrics.csv' or '2020_PermitLog_metrics.csv'):\n",
        "        return 'Education'\n",
        "    if y == 'Hospital_log_metrics.csv':\n",
        "      return 'Healthcare'\n",
        "    if y == 'BPI_Challenge_2017_metrics.csv':\n",
        "      return 'Finance'\n",
        "    if y == 'BPI_Challenge_2019_metrics.csv':\n",
        "      return 'Manufacturing'\n",
        "\n",
        "dummy_filtered = datas.copy()\n",
        "\n",
        "# Apply the function to the 'y' column and assign the result to a new column 'x'\n",
        "dummy_filtered['INDUSTRY_DUMMY_VARIABLE'] = datas['File'].apply(assign_value)"
      ],
      "metadata": {
        "id": "O5dJ6Yi1Kj5K"
      },
      "execution_count": 90,
      "outputs": []
    },
    {
      "cell_type": "code",
      "source": [
        "dummy_filtered['INDUSTRY_DUMMY_VARIABLE'].value_counts()"
      ],
      "metadata": {
        "colab": {
          "base_uri": "https://localhost:8080/"
        },
        "id": "EZsU5XwyNk5e",
        "outputId": "0e6cb023-f0a1-48e3-a5b7-051209e673b0"
      },
      "execution_count": 91,
      "outputs": [
        {
          "output_type": "execute_result",
          "data": {
            "text/plain": [
              "INDUSTRY_DUMMY_VARIABLE\n",
              "Manufacturing            868\n",
              "Public Administration     63\n",
              "Healthcare                39\n",
              "Education                 26\n",
              "Finance                   14\n",
              "Name: count, dtype: int64"
            ]
          },
          "metadata": {},
          "execution_count": 91
        }
      ]
    },
    {
      "cell_type": "code",
      "source": [
        "dummy_filtered.info()"
      ],
      "metadata": {
        "colab": {
          "base_uri": "https://localhost:8080/"
        },
        "id": "V5v7E6YhPaQa",
        "outputId": "867be1da-8036-4f98-d20a-bc5b2c3ab733"
      },
      "execution_count": 92,
      "outputs": [
        {
          "output_type": "stream",
          "name": "stdout",
          "text": [
            "<class 'pandas.core.frame.DataFrame'>\n",
            "RangeIndex: 1474 entries, 0 to 1473\n",
            "Data columns (total 57 columns):\n",
            " #   Column                                                             Non-Null Count  Dtype  \n",
            "---  ------                                                             --------------  -----  \n",
            " 0   Date                                                               1474 non-null   object \n",
            " 1   Cases                                                              1474 non-null   int64  \n",
            " 2   Distinct activities                                                1474 non-null   object \n",
            " 3   Number of distinct activities                                      1474 non-null   int64  \n",
            " 4   Number of simple cycles in period                                  1474 non-null   int64  \n",
            " 5   Average number of simple cycles per trace                          1474 non-null   float64\n",
            " 6   Median number of simple cycles per trace                           1474 non-null   float64\n",
            " 7   Number of activity repetitions in period                           1474 non-null   int64  \n",
            " 8   Average number of activity repetitions per trace                   1474 non-null   float64\n",
            " 9   Median number of activity repetitions per trace                    1474 non-null   float64\n",
            " 10  Number of participants in period                                   1429 non-null   float64\n",
            " 11  Average number of participants per trace                           1429 non-null   float64\n",
            " 12  Median number of participants per trace                            1429 non-null   float64\n",
            " 13  Handover of work in period                                         1429 non-null   float64\n",
            " 14  Average handover of work per trace                                 1429 non-null   float64\n",
            " 15  Median handover of work per trace                                  1429 non-null   float64\n",
            " 16  Average handover of work from participant                          1429 non-null   float64\n",
            " 17  Median handover of work from participant                           1429 non-null   float64\n",
            " 18  Simple Variant Entropy                                             1474 non-null   float64\n",
            " 19  Simple Normalized Variant Entropy                                  1474 non-null   float64\n",
            " 20  Simple Sequence Entropy                                            1474 non-null   float64\n",
            " 21  Simple Normalized Sequence Entropy                                 1474 non-null   float64\n",
            " 22  Simple Sequence Entropy (linear forgetting)                        1474 non-null   float64\n",
            " 23  Simple Normalized Sequence Entropy (linear forgetting)             1474 non-null   float64\n",
            " 24  Simple Sequence Entropy (exponential forgetting, k1)               1474 non-null   float64\n",
            " 25  Simple Normalized Sequence Entropy (exponential forgetting, k1)    1474 non-null   float64\n",
            " 26  Enriched Variant Entropy                                           1474 non-null   float64\n",
            " 27  Enriched Normalized Variant Entropy                                1474 non-null   float64\n",
            " 28  Enriched Sequence Entropy                                          1474 non-null   float64\n",
            " 29  Enriched Normalized Sequence Entropy                               1474 non-null   float64\n",
            " 30  Enriched Sequence Entropy (linear forgetting)                      1474 non-null   float64\n",
            " 31  Enriched Normalized Sequence Entropy (linear forgetting)           1474 non-null   float64\n",
            " 32  Enriched Sequence Entropy (exponential forgetting, k1)             1474 non-null   float64\n",
            " 33  Enriched Normalized Sequence Entropy (exponential forgetting, k1)  1474 non-null   float64\n",
            " 34  Median throughput time                                             1474 non-null   float64\n",
            " 35  Average throughput time                                            1474 non-null   float64\n",
            " 36  PM4Py median throughput time                                       1474 non-null   float64\n",
            " 37  Median cycle time                                                  1474 non-null   float64\n",
            " 38  Average cycle time                                                 1474 non-null   float64\n",
            " 39  Ratio to shortest                                                  356 non-null    float64\n",
            " 40  Ratio to median                                                    1474 non-null   float64\n",
            " 41  Magnitude                                                          1474 non-null   int64  \n",
            " 42  Support                                                            1474 non-null   int64  \n",
            " 43  Variety                                                            1474 non-null   int64  \n",
            " 44  Level of detail                                                    1474 non-null   float64\n",
            " 45  Time granularity                                                   1474 non-null   float64\n",
            " 46  Structure                                                          1474 non-null   float64\n",
            " 47  Affinity                                                           1408 non-null   float64\n",
            " 48  Minimum trace length                                               1474 non-null   int64  \n",
            " 49  Average trace length                                               1474 non-null   float64\n",
            " 50  Maximum trace length                                               1474 non-null   int64  \n",
            " 51  Distinct traces                                                    1474 non-null   float64\n",
            " 52  Deviation from random                                              1474 non-null   float64\n",
            " 53  Lempel-Ziv                                                         1474 non-null   int64  \n",
            " 54  Pentland task complexity                                           1474 non-null   int64  \n",
            " 55  File                                                               1474 non-null   object \n",
            " 56  INDUSTRY_DUMMY_VARIABLE                                            1010 non-null   object \n",
            "dtypes: float64(42), int64(11), object(4)\n",
            "memory usage: 656.5+ KB\n"
          ]
        }
      ]
    },
    {
      "cell_type": "code",
      "source": [
        "column_indices = [1, 3, 4, 5, 6, 7, 8, 9, 10, 11, 12, 13, 14, 15, 16, 17, 18, 19, 20,\n",
        "                  21, 22, 23, 24, 25, 26, 27, 28, 29, 30, 31, 32, 33, 34,\n",
        "                  41, 42, 43, 44, 45, 45, 46, 47, 48, 49, 50, 51, 52, 53, 54, 56]\n",
        "\n",
        "# Select the columns\n",
        "dummy_filtered = dummy_filtered.iloc[:, column_indices]\n",
        "\n",
        "dummy_filtered = dummy_filtered.dropna(subset=['Affinity', 'Number of participants in period', 'Handover of work in period',\n",
        "                                               'Median handover of work from participant', 'Average handover of work from participant',\n",
        "                                               'Median handover of work per trace', 'Average handover of work per trace', 'Median number of participants per trace',\n",
        "                                               'Average number of participants per trace'])\n"
      ],
      "metadata": {
        "id": "usFhAxacNr63"
      },
      "execution_count": 93,
      "outputs": []
    },
    {
      "cell_type": "code",
      "source": [
        "from sklearn.preprocessing import LabelEncoder\n",
        "\n",
        "enc = LabelEncoder()\n",
        "\n",
        "dummy_filtered['INDUSTRY_DUMMY_VARIABLE'] = enc.fit_transform(dummy_filtered['INDUSTRY_DUMMY_VARIABLE'])"
      ],
      "metadata": {
        "id": "EBssavodQHxS"
      },
      "execution_count": 94,
      "outputs": []
    },
    {
      "cell_type": "code",
      "source": [
        "y = dummy_filtered[\"Median throughput time\"]\n",
        "\n",
        "# Define the independent variables (all other metrics)\n",
        "X = dummy_filtered[\"INDUSTRY_DUMMY_VARIABLE\"]\n"
      ],
      "metadata": {
        "id": "H0MMrM6dTseq"
      },
      "execution_count": 95,
      "outputs": []
    },
    {
      "cell_type": "markdown",
      "source": [
        "**FULL MODELS WITH DUMMY VARIABLE**"
      ],
      "metadata": {
        "id": "KtojWWFuW3gH"
      }
    },
    {
      "cell_type": "code",
      "source": [
        "model = sm.OLS(y,X).fit()"
      ],
      "metadata": {
        "id": "qLlYi3ZQbLPY"
      },
      "execution_count": 96,
      "outputs": []
    },
    {
      "cell_type": "code",
      "source": [
        "model.rsquared"
      ],
      "metadata": {
        "colab": {
          "base_uri": "https://localhost:8080/"
        },
        "id": "M30w4ytaC5sF",
        "outputId": "739fcd49-e22a-472a-cf06-e34023b8cb76"
      },
      "execution_count": 97,
      "outputs": [
        {
          "output_type": "execute_result",
          "data": {
            "text/plain": [
              "0.26560601353812285"
            ]
          },
          "metadata": {},
          "execution_count": 97
        }
      ]
    }
  ]
}